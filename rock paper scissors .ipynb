{
 "cells": [
  {
   "cell_type": "code",
   "execution_count": 14,
   "id": "54557adb",
   "metadata": {},
   "outputs": [
    {
     "name": "stdout",
     "output_type": "stream",
     "text": [
      "Player chooses rock\n",
      "Computer chooses scissors\n",
      "Player chooses scissors\n",
      "Computer chooses scissors\n",
      "Player chooses paper\n",
      "Computer chooses scissors\n"
     ]
    }
   ],
   "source": [
    "import random\n",
    "\n",
    "def name_to_number(name):\n",
    "    if name == 'rock':\n",
    "        return 0\n",
    "    elif name == 'scissors':\n",
    "        return 1\n",
    "    elif name == 'paper':\n",
    "        return 2\n",
    "\n",
    "def number_to_name(number):\n",
    "    if number == 0:\n",
    "        return 'rock'\n",
    "    elif number == 1:\n",
    "        return 'scissors'\n",
    "    elif number == 2:\n",
    "        return 'paper'\n",
    "\n",
    "def rpsls(player_choice): \n",
    "\n",
    "    player_number = name_to_number(player_choice)\n",
    "\n",
    "    comp_number = random.randrange(0, 2)\n",
    "\n",
    "    comp_choice = number_to_name(comp_number)\n",
    "\n",
    "    print('Player chooses ' + player_choice)\n",
    "\n",
    "    print('Computer chooses ' + comp_choice)\n",
    "\n",
    "rpsls('rock')\n",
    "rpsls('scissors')\n",
    "rpsls('paper')"
   ]
  }
 ],
 "metadata": {
  "kernelspec": {
   "display_name": "Python 3 (ipykernel)",
   "language": "python",
   "name": "python3"
  },
  "language_info": {
   "codemirror_mode": {
    "name": "ipython",
    "version": 3
   },
   "file_extension": ".py",
   "mimetype": "text/x-python",
   "name": "python",
   "nbconvert_exporter": "python",
   "pygments_lexer": "ipython3",
   "version": "3.9.7"
  }
 },
 "nbformat": 4,
 "nbformat_minor": 5
}
